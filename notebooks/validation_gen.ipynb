{
 "cells": [
  {
   "cell_type": "code",
   "execution_count": 73,
   "metadata": {
    "collapsed": false
   },
   "outputs": [],
   "source": [
    "import pandas as pd\n",
    "import sys\n",
    "sys.path.insert(0, '..')\n",
    "import paths\n",
    "from sklearn.preprocessing import MultiLabelBinarizer\n",
    "from sklearn.model_selection import train_test_split"
   ]
  },
  {
   "cell_type": "code",
   "execution_count": 74,
   "metadata": {
    "collapsed": false
   },
   "outputs": [],
   "source": [
    "data_path = '../' + (paths.DATA_FOLDER)\n",
    "train_data_path = data_path + '/train-tif-v2'\n",
    "test_data_path = '/test-tif-v2'\n",
    "train_info_path = data_path + '/train_v2.csv'"
   ]
  },
  {
   "cell_type": "code",
   "execution_count": 75,
   "metadata": {
    "collapsed": true
   },
   "outputs": [],
   "source": [
    "labels = ['agriculture', 'artisinal_mine', 'bare_ground', 'blooming', 'blow_down', 'clear', 'cloudy', 'conventional_mine', 'cultivation', 'habitation', 'haze', 'partly_cloudy', 'primary', 'road', 'selective_logging', 'slash_burn', 'water']"
   ]
  },
  {
   "cell_type": "code",
   "execution_count": 76,
   "metadata": {
    "collapsed": false
   },
   "outputs": [],
   "source": [
    "train_csv = pd.read_csv(train_info_path, sep=',')"
   ]
  },
  {
   "cell_type": "code",
   "execution_count": 77,
   "metadata": {
    "collapsed": false
   },
   "outputs": [],
   "source": [
    "train_labels = train_csv.tags.str.split(' ').apply(lambda l: [labels.index(e) for e in l]).values\n",
    "train_labels = MultiLabelBinarizer().fit_transform(train_labels)"
   ]
  },
  {
   "cell_type": "code",
   "execution_count": 78,
   "metadata": {
    "collapsed": false
   },
   "outputs": [],
   "source": [
    "df = pd.DataFrame(train_csv['image_name'])\n",
    "for i in range(len(labels)):\n",
    "    data = pd.DataFrame(train_labels[:,i])\n",
    "    label = labels[i]\n",
    "    df[label] = data\n",
    "train, test = train_test_split(df, test_size = 0.3)\n",
    "    "
   ]
  },
  {
   "cell_type": "code",
   "execution_count": 84,
   "metadata": {
    "collapsed": false
   },
   "outputs": [],
   "source": [
    "train.to_csv(data_path + '/train.csv', sep=',', index=False)\n",
    "test.to_csv(data_path + '/validation.csv', sep=',', index=False)"
   ]
  },
  {
   "cell_type": "code",
   "execution_count": 93,
   "metadata": {
    "collapsed": false
   },
   "outputs": [
    {
     "name": "stdout",
     "output_type": "stream",
     "text": [
      "image_name           train_13342train_13325train_30344train_17059tr...\n",
      "agriculture                                                       8655\n",
      "artisinal_mine                                                     244\n",
      "bare_ground                                                        592\n",
      "blooming                                                           218\n",
      "blow_down                                                           65\n",
      "clear                                                            19860\n",
      "cloudy                                                            1446\n",
      "conventional_mine                                                   74\n",
      "cultivation                                                       3169\n",
      "habitation                                                        2551\n",
      "haze                                                              1914\n",
      "partly_cloudy                                                     5114\n",
      "primary                                                          26260\n",
      "road                                                              5645\n",
      "selective_logging                                                  237\n",
      "slash_burn                                                         142\n",
      "water                                                             5228\n",
      "dtype: object\n"
     ]
    }
   ],
   "source": [
    "print train.sum()"
   ]
  },
  {
   "cell_type": "code",
   "execution_count": 95,
   "metadata": {
    "collapsed": false
   },
   "outputs": [
    {
     "name": "stdout",
     "output_type": "stream",
     "text": [
      "image_name           train_31481train_10857train_17666train_32671tr...\n",
      "agriculture                                                       3660\n",
      "artisinal_mine                                                      95\n",
      "bare_ground                                                        270\n",
      "blooming                                                           114\n",
      "blow_down                                                           33\n",
      "clear                                                             8571\n",
      "cloudy                                                             643\n",
      "conventional_mine                                                   26\n",
      "cultivation                                                       1308\n",
      "habitation                                                        1109\n",
      "haze                                                               783\n",
      "partly_cloudy                                                     2147\n",
      "primary                                                          11253\n",
      "road                                                              2426\n",
      "selective_logging                                                  103\n",
      "slash_burn                                                          67\n",
      "water                                                             2183\n",
      "dtype: object\n"
     ]
    }
   ],
   "source": [
    "print test.sum()"
   ]
  },
  {
   "cell_type": "code",
   "execution_count": null,
   "metadata": {
    "collapsed": true
   },
   "outputs": [],
   "source": []
  }
 ],
 "metadata": {
  "kernelspec": {
   "display_name": "Python 2",
   "language": "python",
   "name": "python2"
  },
  "language_info": {
   "codemirror_mode": {
    "name": "ipython",
    "version": 2
   },
   "file_extension": ".py",
   "mimetype": "text/x-python",
   "name": "python",
   "nbconvert_exporter": "python",
   "pygments_lexer": "ipython2",
   "version": "2.7.13"
  }
 },
 "nbformat": 4,
 "nbformat_minor": 2
}
