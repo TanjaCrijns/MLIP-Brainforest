{
 "cells": [
  {
   "cell_type": "markdown",
   "metadata": {},
   "source": [
    "## Imports"
   ]
  },
  {
   "cell_type": "code",
   "execution_count": null,
   "metadata": {
    "collapsed": false
   },
   "outputs": [],
   "source": [
    "from keras.models import Model, Sequential, load_model\n",
    "from keras.layers import Dense, Flatten, BatchNormalization\n",
    "from keras.optimizers import Adam, SGD\n",
    "from keras.callbacks import *\n",
    "from keras.preprocessing.image import ImageDataGenerator\n",
    "from keras.applications.vgg16 import VGG16, preprocess_input\n",
    "\n",
    "import numpy as np\n",
    "import pandas as pd\n",
    "import cv2\n",
    "import matplotlib.pyplot as plt\n",
    "%matplotlib inline\n",
    "import glob\n",
    "import os\n",
    "import sys\n",
    "sys.path.insert(0, '..')\n",
    "import paths\n",
    "sys.path.insert(0, '..\\scripts')\n",
    "import data\n",
    "import extract_class"
   ]
  },
  {
   "cell_type": "markdown",
   "metadata": {},
   "source": [
    "## Paths and directories"
   ]
  },
  {
   "cell_type": "code",
   "execution_count": null,
   "metadata": {
    "collapsed": false
   },
   "outputs": [],
   "source": [
    "data_folder = paths.DATA_FOLDER"
   ]
  },
  {
   "cell_type": "markdown",
   "metadata": {},
   "source": [
    "## Data"
   ]
  },
  {
   "cell_type": "code",
   "execution_count": null,
   "metadata": {
    "collapsed": false
   },
   "outputs": [],
   "source": [
    "all_labels = ['agriculture', 'artisinal_mine', 'bare_ground', 'blooming', 'blow_down', 'clear', 'cloudy', 'conventional_mine', 'cultivation', 'habitation', \n",
    "              'haze', 'partly_cloudy', 'primary', 'road', 'selective_logging', 'slash_burn', 'water']\n",
    "current_label = 'agriculture'\n",
    "train_data = data.get_class_data(label=current_label)\n",
    "validation_data = data.get_class_data(train=False, label=current_label)\n",
    "#extract_class.extract_class(current_label, 'jpg')\n",
    "n_train = len(glob.glob(data_folder + '/' + current_label + '/*.jpg'))\n",
    "extract_class.extract_negative(current_label, n_train)\n",
    "image_size = 256"
   ]
  },
  {
   "cell_type": "markdown",
   "metadata": {},
   "source": [
    "## Preprocessing"
   ]
  },
  {
   "cell_type": "code",
   "execution_count": null,
   "metadata": {
    "collapsed": false
   },
   "outputs": [],
   "source": [
    "def preprocess_generator(gen):\n",
    "    for X, y in gen:\n",
    "        yield preprocess_input(X)/255., y\n",
    "\n",
    "data_generator = ImageDataGenerator(\n",
    "                     rotation_range=25,\n",
    "                     width_shift_range=0.1,\n",
    "                     height_shift_range=0.1,\n",
    "                     zoom_range=0.2,\n",
    "                     horizontal_flip=True,\n",
    "                     vertical_flip=True)"
   ]
  },
  {
   "cell_type": "markdown",
   "metadata": {},
   "source": [
    "## Model"
   ]
  },
  {
   "cell_type": "code",
   "execution_count": null,
   "metadata": {
    "collapsed": false
   },
   "outputs": [],
   "source": [
    "model = VGG16(include_top=False, weights='imagenet', input_shape=(3, image_size, image_size))\n",
    "\n",
    "for layer in model.layers:\n",
    "    layer.trainable = False\n",
    "    \n",
    "layer = Flatten()(model.output)\n",
    "layer = BatchNormalization()(layer)\n",
    "layer = Dense(512, activation='relu')(layer)\n",
    "layer = BatchNormalization()(layer)\n",
    "\n",
    "output_layer = Dense(2, activation='softmax')(layer)\n",
    "\n",
    "model = Model(input=model.input, output=output_layer)\n",
    "model.compile(loss='categorical_crossentropy',\n",
    "              optimizer=Adam(),\n",
    "              metrics=['accuracy'])\n",
    "\n",
    "csv_logger = CSVLogger('../log.csv')\n",
    "lr_plateau = ReduceLROnPlateau(monitor='val_loss', patience=0, verbose=1, factor=0.1)\n",
    "checkpoint = ModelCheckpoint(filepath='../models/model.' + current_label + '.{epoch:02d}-{val_loss}.hdf5', verbose=1, save_best_only=True)\n",
    "\n",
    "train_generator = data_generator.flow_from_directory(, target_size=(image_size, image_size), \n",
    "                                               batch_size=8, shuffle=True, classes=[current_label, 'normal'])\n",
    "val_generator = ImageDataGenerator().flow_from_directory(val_dir, target_size=(image_size, image_size), \n",
    "                                                   batch_size=8, shuffle=False, classes=[current_label, 'normal'])\n",
    "\n",
    "train_generator = preprocess_generator(train_generator)\n",
    "val_generator = preprocess_generator(val_generator)\n",
    "\n",
    "model.fit_generator(train_generator, samples_per_epoch=nb_train, nb_epoch=5, verbose=1,\n",
    "                    callbacks=[csv_logger, lr_plateau, checkpoint],\n",
    "                    validation_data=val_generator, nb_val_samples=nb_val,\n",
    "                    nb_worker=4, pickle_safe=True)"
   ]
  },
  {
   "cell_type": "code",
   "execution_count": null,
   "metadata": {
    "collapsed": true
   },
   "outputs": [],
   "source": []
  }
 ],
 "metadata": {
  "kernelspec": {
   "display_name": "Python 2",
   "language": "python",
   "name": "python2"
  },
  "language_info": {
   "codemirror_mode": {
    "name": "ipython",
    "version": 2
   },
   "file_extension": ".py",
   "mimetype": "text/x-python",
   "name": "python",
   "nbconvert_exporter": "python",
   "pygments_lexer": "ipython2",
   "version": "2.7.13"
  }
 },
 "nbformat": 4,
 "nbformat_minor": 0
}
