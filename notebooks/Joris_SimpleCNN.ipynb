{
 "cells": [
  {
   "cell_type": "code",
   "execution_count": null,
   "metadata": {},
   "outputs": [],
   "source": [
    "%load_ext autoreload\n",
    "%autoreload 2\n",
    "\n",
    "import sys\n",
    "sys.path.append('..')\n",
    "import glob\n",
    "import os\n",
    "from shutil import copy2\n",
    "\n",
    "import matplotlib.pyplot as plt\n",
    "import numpy as np\n",
    "import matplotlib.pyplot as plt\n",
    "from sklearn.externals import joblib\n",
    "from sklearn.metrics import fbeta_score\n",
    "\n",
    "from keras.preprocessing.image import ImageDataGenerator\n",
    "from keras.models import Sequential\n",
    "from keras.callbacks import CSVLogger, ReduceLROnPlateau, ModelCheckpoint\n",
    "\n",
    "from keras.layers.convolutional import Conv2D\n",
    "from keras.layers import Dense, Flatten\n",
    "from keras.layers.normalization import BatchNormalization\n",
    "from keras.layers.pooling import MaxPool2D\n",
    "\n",
    "import paths\n",
    "from rainforest.data import get_class_data, get_data\n",
    "from tqdm import tqdm_notebook\n",
    "\n",
    "%matplotlib inline"
   ]
  },
  {
   "cell_type": "code",
   "execution_count": null,
   "metadata": {
    "collapsed": true
   },
   "outputs": [],
   "source": [
    "input_shape = (64, 64)\n",
    "batch_size = 32"
   ]
  },
  {
   "cell_type": "code",
   "execution_count": null,
   "metadata": {
    "scrolled": true
   },
   "outputs": [],
   "source": [
    "val_dir = os.path.join(paths.DATA_FOLDER, 'val-jpg')\n",
    "if not os.path.isdir(val_dir):\n",
    "    os.mkdir(val_dir)\n",
    "    val_data = get_data(train=False)\n",
    "    for file in tqdm_notebook(val_data.image_name, total=len(val_data)):\n",
    "        copy2(os.path.join(paths.DATA_FOLDER, 'train-jpg', file+'.jpg'), val_dir)"
   ]
  },
  {
   "cell_type": "code",
   "execution_count": null,
   "metadata": {
    "collapsed": true
   },
   "outputs": [],
   "source": [
    "classname = 'cultivation'\n",
    "\n",
    "tra_pos_folder = os.path.join(paths.DATA_FOLDER, 'tra_'+classname)\n",
    "tra_neg_folder = os.path.join(paths.DATA_FOLDER, 'tra_negative_'+classname)\n",
    "val_pos_folder = os.path.join(paths.DATA_FOLDER, 'val_'+classname)\n",
    "val_neg_folder = os.path.join(paths.DATA_FOLDER, 'val_negative_'+classname)\n",
    "\n",
    "os.mkdir(tra_pos_folder)\n",
    "os.mkdir(tra_neg_folder)\n",
    "os.mkdir(val_pos_folder)\n",
    "os.mkdir(val_neg_folder)"
   ]
  },
  {
   "cell_type": "code",
   "execution_count": null,
   "metadata": {},
   "outputs": [],
   "source": [
    "train_data = get_class_data(train=True, label=classname)\n",
    "val_data = get_class_data(train=False, label=classname)"
   ]
  },
  {
   "cell_type": "code",
   "execution_count": null,
   "metadata": {},
   "outputs": [],
   "source": [
    "train_pos = train_data[train_data[classname] == 1]\n",
    "train_neg = train_data[train_data[classname] == 0].sample(len(train_pos))\n",
    "val_pos = val_data[val_data[classname] == 1]\n",
    "val_neg = val_data[val_data[classname] == 0].sample(len(val_pos))\n",
    "\n",
    "for file in train_pos.image_name:\n",
    "    copy2(os.path.join(paths.DATA_FOLDER, 'train-jpg', file+'.jpg'), tra_pos_folder)\n",
    "    \n",
    "for file in train_neg.image_name:\n",
    "    copy2(os.path.join(paths.DATA_FOLDER, 'train-jpg', file+'.jpg'), tra_neg_folder)\n",
    "    \n",
    "for file in val_pos.image_name:\n",
    "    copy2(os.path.join(paths.DATA_FOLDER, 'train-jpg', file+'.jpg'), val_pos_folder)\n",
    "    \n",
    "for file in val_neg.image_name:\n",
    "    copy2(os.path.join(paths.DATA_FOLDER, 'train-jpg', file+'.jpg'), val_neg_folder)"
   ]
  },
  {
   "cell_type": "code",
   "execution_count": null,
   "metadata": {},
   "outputs": [],
   "source": [
    "model = Sequential([\n",
    "    Conv2D(16, 3, activation='relu', kernel_initializer='he_normal', input_shape=(3,)+input_shape),\n",
    "    Conv2D(16, 3, activation='relu', kernel_initializer='he_normal'),\n",
    "    MaxPool2D(),\n",
    "    Conv2D(32, 3, activation='relu', kernel_initializer='he_normal'),\n",
    "    Conv2D(32, 3, activation='relu', kernel_initializer='he_normal'),\n",
    "    MaxPool2D(),\n",
    "    Conv2D(64, 3, activation='relu', kernel_initializer='he_normal'),\n",
    "    Conv2D(64, 3, activation='relu', kernel_initializer='he_normal'),\n",
    "    MaxPool2D(),\n",
    "    Flatten(),\n",
    "    Dense(2, activation='softmax')\n",
    "])\n",
    "\n",
    "model.compile(loss='categorical_crossentropy', optimizer='adam', metrics=['accuracy'])\n",
    "model.summary()"
   ]
  },
  {
   "cell_type": "code",
   "execution_count": null,
   "metadata": {},
   "outputs": [],
   "source": [
    "train_gen = ImageDataGenerator(rescale=1./255., rotation_range=10, zoom_range=0.1, shear_range=0.1,\n",
    "                               horizontal_flip=True, vertical_flip=True, width_shift_range=0.05, height_shift_range=0.05,\n",
    "                               fill_mode='reflect'\n",
    "                              ).flow_from_directory(paths.DATA_FOLDER, target_size=input_shape, \n",
    "                                                    classes=['tra_'+classname, 'tra_negative_'+classname],\n",
    "                                                    shuffle=True, batch_size=batch_size\n",
    "                                                    )\n",
    "\n",
    "val_gen = ImageDataGenerator(rescale=1./255.).flow_from_directory(paths.DATA_FOLDER, target_size=input_shape, \n",
    "                                                    classes=['val_'+classname, 'val_negative_'+classname], batch_size=batch_size\n",
    "                                                    )"
   ]
  },
  {
   "cell_type": "code",
   "execution_count": null,
   "metadata": {
    "collapsed": true
   },
   "outputs": [],
   "source": [
    "train_steps = train_gen.n / batch_size\n",
    "val_steps = val_gen.n / batch_size"
   ]
  },
  {
   "cell_type": "code",
   "execution_count": null,
   "metadata": {},
   "outputs": [],
   "source": [
    "csv_logger = CSVLogger('log.csv')\n",
    "lr_plateau = ReduceLROnPlateau(monitor='val_loss', patience=3, verbose=1, factor=0.5)\n",
    "checkpoint = ModelCheckpoint(filepath='E:/Models/brainforest/'+classname+'.hdf5',\n",
    "                             verbose=1, save_best_only=True)\n",
    "model.fit_generator(train_gen, train_steps, callbacks=[csv_logger, lr_plateau, checkpoint], epochs=50,\n",
    "                    validation_data=val_gen, validation_steps=val_steps)"
   ]
  },
  {
   "cell_type": "code",
   "execution_count": null,
   "metadata": {},
   "outputs": [],
   "source": [
    "model.load_weights('E:/Models/brainforest/'+classname+'.hdf5')\n",
    "val_gen = ImageDataGenerator(rescale=1./255.).flow_from_directory(paths.DATA_FOLDER, target_size=input_shape, \n",
    "                                                    classes=['val-jpg'], batch_size=batch_size, class_mode=None,\n",
    "                                                    shuffle=False)\n",
    "val_steps = int(np.ceil(float(val_gen.n) / float(batch_size)))\n",
    "preds = model.predict_generator(val_gen, val_steps)"
   ]
  },
  {
   "cell_type": "code",
   "execution_count": null,
   "metadata": {},
   "outputs": [],
   "source": [
    "val_data = get_data(train=False)\n",
    "preds = preds[:len(val_data)]"
   ]
  },
  {
   "cell_type": "code",
   "execution_count": null,
   "metadata": {},
   "outputs": [],
   "source": [
    "y_true = val_data[classname].values\n",
    "y_pred =  preds[:, 1] > 0.5\n",
    "print 'f2 score:', fbeta_score(y_true, y_pred, 2)"
   ]
  },
  {
   "cell_type": "code",
   "execution_count": null,
   "metadata": {},
   "outputs": [],
   "source": [
    "(preds[:, 0] > 0.5).sum()"
   ]
  },
  {
   "cell_type": "code",
   "execution_count": null,
   "metadata": {
    "collapsed": true
   },
   "outputs": [],
   "source": []
  }
 ],
 "metadata": {
  "kernelspec": {
   "display_name": "Python 2",
   "language": "python",
   "name": "python2"
  },
  "language_info": {
   "codemirror_mode": {
    "name": "ipython",
    "version": 2
   },
   "file_extension": ".py",
   "mimetype": "text/x-python",
   "name": "python",
   "nbconvert_exporter": "python",
   "pygments_lexer": "ipython2",
   "version": "2.7.13"
  }
 },
 "nbformat": 4,
 "nbformat_minor": 2
}
