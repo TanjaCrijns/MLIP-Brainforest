{
 "cells": [
  {
   "cell_type": "code",
   "execution_count": null,
   "metadata": {},
   "outputs": [],
   "source": [
    "%load_ext autoreload\n",
    "%autoreload 2\n",
    "\n",
    "import keras\n",
    "\n",
    "import numpy as np\n",
    "from keras.models import Model, load_model, Sequential\n",
    "from keras.applications.vgg16 import VGG16, preprocess_input\n",
    "from keras.preprocessing.image import ImageDataGenerator\n",
    "from keras.layers import *\n",
    "from keras.callbacks import *\n",
    "from keras.optimizers import Adam\n",
    "from keras.objectives import categorical_crossentropy\n",
    "\n",
    "import matplotlib.pyplot as plt\n",
    "import glob\n",
    "import os\n",
    "from sklearn.externals import joblib\n",
    "import sys\n",
    "\n",
    "sys.path.append('../')\n",
    "\n",
    "import paths\n",
    "\n",
    "%matplotlib inline\n",
    "\n",
    "\n",
    "\n",
    "img_size = 256\n",
    "batch_size = 16"
   ]
  },
  {
   "cell_type": "code",
   "execution_count": null,
   "metadata": {},
   "outputs": [],
   "source": [
    "folder_name = 'test-jpg'\n",
    "\n",
    "def preprocess_gen(gen):\n",
    "    for X, y in gen:\n",
    "        yield preprocess_input(X)/255., y\n",
    "        \n",
    "data_gen = ImageDataGenerator().flow_from_directory(paths.DATA_FOLDER, batch_size=batch_size, shuffle=False,\n",
    "                                                    classes=[folder_name], target_size=(img_size, img_size))\n",
    "n_files = data_gen.n\n",
    "data_gen = preprocess_gen(data_gen)"
   ]
  },
  {
   "cell_type": "code",
   "execution_count": null,
   "metadata": {},
   "outputs": [],
   "source": [
    "base_model = VGG16(include_top=False, input_shape=(3, img_size, img_size))\n",
    "for layer in base_model.layers:\n",
    "    layer.trainable = False\n",
    "output = GlobalAveragePooling2D()(base_model.output)\n",
    "model = Model(input=base_model.input, output=output)\n",
    "model.compile(Adam(lr=1e-4), 'categorical_crossentropy')\n",
    "model.summary()"
   ]
  },
  {
   "cell_type": "code",
   "execution_count": null,
   "metadata": {},
   "outputs": [],
   "source": [
    "num_steps = (n_files / batch_size) + 1\n",
    "preds = model.predict_generator(data_gen, val_samples=n_files)"
   ]
  },
  {
   "cell_type": "code",
   "execution_count": null,
   "metadata": {},
   "outputs": [],
   "source": [
    "preds = preds[:n_files, :]"
   ]
  },
  {
   "cell_type": "code",
   "execution_count": null,
   "metadata": {},
   "outputs": [],
   "source": [
    "preds.shape"
   ]
  },
  {
   "cell_type": "code",
   "execution_count": null,
   "metadata": {},
   "outputs": [],
   "source": [
    "joblib.dump(preds, os.path.join(paths.DATA_FOLDER, 'vgg_glob_avg_pool_features_test.pkl'))"
   ]
  },
  {
   "cell_type": "code",
   "execution_count": null,
   "metadata": {
    "collapsed": true
   },
   "outputs": [],
   "source": []
  }
 ],
 "metadata": {
  "kernelspec": {
   "display_name": "Python 2",
   "language": "python",
   "name": "python2"
  },
  "language_info": {
   "codemirror_mode": {
    "name": "ipython",
    "version": 2
   },
   "file_extension": ".py",
   "mimetype": "text/x-python",
   "name": "python",
   "nbconvert_exporter": "python",
   "pygments_lexer": "ipython2",
   "version": "2.7.12"
  }
 },
 "nbformat": 4,
 "nbformat_minor": 2
}
