{
 "cells": [
  {
   "cell_type": "code",
   "execution_count": null,
   "metadata": {},
   "outputs": [],
   "source": [
    "%load_ext autoreload\n",
    "%autoreload 2\n",
    "\n",
    "import sys\n",
    "sys.path.append('..')\n",
    "\n",
    "import glob\n",
    "import os\n",
    "\n",
    "import numpy as np\n",
    "import pandas as pd\n",
    "import cv2\n",
    "import matplotlib.pyplot as plt\n",
    "%matplotlib inline\n",
    "\n",
    "from sklearn.metrics import fbeta_score\n",
    "\n",
    "from keras.models import Sequential\n",
    "from keras.layers import *\n",
    "from keras.callbacks import CSVLogger, ReduceLROnPlateau, ModelCheckpoint\n",
    "from keras import backend as K\n",
    "import paths\n",
    "from rainforest.data import get_data"
   ]
  },
  {
   "cell_type": "code",
   "execution_count": null,
   "metadata": {
    "collapsed": true
   },
   "outputs": [],
   "source": [
    "train_data = get_data(train=True)\n",
    "val_data = get_data(train=False)"
   ]
  },
  {
   "cell_type": "code",
   "execution_count": null,
   "metadata": {
    "collapsed": true
   },
   "outputs": [],
   "source": [
    "batch_size=32\n",
    "input_size=(64, 64)"
   ]
  },
  {
   "cell_type": "code",
   "execution_count": null,
   "metadata": {},
   "outputs": [],
   "source": [
    "def data_generator(data_df, batch_size=32, target_size=(256, 256), shuffle=True):\n",
    "    n = len(data_df)\n",
    "    while True:\n",
    "        # Maybe shuffle\n",
    "        data = data_df.sample(frac=1) if shuffle else data_df\n",
    "        data = data.append(data, ignore_index=True)\n",
    "        i = 0\n",
    "        while i < n:\n",
    "            X_batch = np.zeros((batch_size, 3) + target_size, dtype=np.float32)\n",
    "            y_batch = np.zeros((batch_size, 17), dtype=np.uint8)\n",
    "            \n",
    "            for j in range(batch_size):\n",
    "                img = data.iloc[i]\n",
    "                img_path = os.path.join(paths.DATA_FOLDER, 'train-jpg', img.image_name+'.jpg')\n",
    "                norm_image = cv2.imread(img_path, cv2.IMREAD_COLOR).astype(np.float32) / 255\n",
    "                norm_image = cv2.resize(norm_image, tuple(reversed(target_size)), cv2.INTER_LINEAR)\n",
    "                X_batch[j] = norm_image.transpose(2, 0, 1)\n",
    "                y_batch[j] = img[1:].values\n",
    "                i += 1\n",
    "            \n",
    "            yield X_batch, y_batch"
   ]
  },
  {
   "cell_type": "code",
   "execution_count": null,
   "metadata": {
    "collapsed": true
   },
   "outputs": [],
   "source": [
    "def fb_score(beta=1, smooth=1.):\n",
    "    \n",
    "    def score(y_true, y_pred, smooth=1):\n",
    "        y_pred = y_pred > 0.5\n",
    "        recall = K.sum(y_true * y_pred, axis=1) / K.sum(y_true, axis=1)\n",
    "        precision = K.sum(y_true * y_pred, axis=1) / K.sum(y_pred, axis=1)\n",
    "        return K.mean( ((1+beta**2) * (precision*recall)+smooth) / (beta**2*precision+recall+smooth) )\n",
    "    \n",
    "    return score"
   ]
  },
  {
   "cell_type": "code",
   "execution_count": null,
   "metadata": {},
   "outputs": [],
   "source": [
    "model = Sequential([\n",
    "    Conv2D(32, 3, activation='relu', kernel_initializer='he_normal', input_shape=(3,)+input_size),\n",
    "    BatchNormalization(axis=1),\n",
    "    Conv2D(32, 3, activation='relu', kernel_initializer='he_normal'),\n",
    "    BatchNormalization(axis=1),\n",
    "    MaxPool2D(),\n",
    "    \n",
    "    Conv2D(64, 3, activation='relu', kernel_initializer='he_normal'),\n",
    "    BatchNormalization(axis=1),\n",
    "    Conv2D(64, 3, activation='relu', kernel_initializer='he_normal'),\n",
    "    BatchNormalization(axis=1),\n",
    "    MaxPool2D(),\n",
    "    \n",
    "    Conv2D(128, 3, activation='relu', kernel_initializer='he_normal'),\n",
    "    BatchNormalization(axis=1),\n",
    "    Conv2D(128, 3, activation='relu', kernel_initializer='he_normal'),\n",
    "    BatchNormalization(axis=1),\n",
    "    MaxPool2D(),\n",
    "    \n",
    "    Flatten(),\n",
    "    Dense(1024, activation='relu', kernel_initializer='he_normal'),\n",
    "    BatchNormalization(axis=1),\n",
    "    Dense(17, activation='sigmoid')\n",
    "])\n",
    "\n",
    "model.summary()\n",
    "model.compile(loss='binary_crossentropy', optimizer='adam', metrics=['accuracy', fb_score(beta=2)])"
   ]
  },
  {
   "cell_type": "code",
   "execution_count": null,
   "metadata": {},
   "outputs": [],
   "source": [
    "train_gen = data_generator(train_data, batch_size=batch_size, target_size=input_size, shuffle=True)\n",
    "val_gen = data_generator(val_data, batch_size=batch_size, target_size=input_size, shuffle=False)"
   ]
  },
  {
   "cell_type": "code",
   "execution_count": null,
   "metadata": {},
   "outputs": [],
   "source": [
    "csv_logger = CSVLogger('log.csv')\n",
    "lr_plateau = ReduceLROnPlateau(monitor='val_loss', patience=3, verbose=1, factor=0.5)\n",
    "checkpoint = ModelCheckpoint(filepath='E:/Models/brainforest/multilabel.hdf5', verbose=1, save_best_only=True)"
   ]
  },
  {
   "cell_type": "code",
   "execution_count": null,
   "metadata": {
    "scrolled": false
   },
   "outputs": [],
   "source": [
    "train_steps = len(train_data) // batch_size\n",
    "val_steps = len(val_data) // batch_size\n",
    "model.fit_generator(train_gen, train_steps, epochs=50, callbacks=[csv_logger, lr_plateau, checkpoint],\n",
    "                    validation_data=val_gen, validation_steps=val_steps)"
   ]
  },
  {
   "cell_type": "code",
   "execution_count": null,
   "metadata": {},
   "outputs": [],
   "source": [
    "model.load_weights('E:/Models/brainforest/multilabel.hdf5')\n",
    "\n",
    "def strip_labels(gen):\n",
    "    while True:\n",
    "        imgs, _ = next(gen)\n",
    "        yield imgs\n",
    "\n",
    "val_steps = int(np.ceil(len(val_data) // batch_size)) + 1\n",
    "val_gen = strip_labels(data_generator(val_data, batch_size=batch_size, target_size=input_size, shuffle=False))\n",
    "preds = model.predict_generator(val_gen, val_steps)\n",
    "preds = preds[:len(val_data)]"
   ]
  },
  {
   "cell_type": "code",
   "execution_count": null,
   "metadata": {},
   "outputs": [],
   "source": [
    "y_true = val_data.iloc[:, 1:].values\n",
    "y_pred =  preds > 0.5\n",
    "print 'f2 score:', fbeta_score(y_true, y_pred, 2, average='samples')"
   ]
  },
  {
   "cell_type": "code",
   "execution_count": null,
   "metadata": {},
   "outputs": [],
   "source": [
    "preds.shape"
   ]
  },
  {
   "cell_type": "code",
   "execution_count": null,
   "metadata": {
    "collapsed": true
   },
   "outputs": [],
   "source": []
  }
 ],
 "metadata": {
  "kernelspec": {
   "display_name": "Python 2",
   "language": "python",
   "name": "python2"
  },
  "language_info": {
   "codemirror_mode": {
    "name": "ipython",
    "version": 2
   },
   "file_extension": ".py",
   "mimetype": "text/x-python",
   "name": "python",
   "nbconvert_exporter": "python",
   "pygments_lexer": "ipython2",
   "version": "2.7.13"
  }
 },
 "nbformat": 4,
 "nbformat_minor": 2
}
