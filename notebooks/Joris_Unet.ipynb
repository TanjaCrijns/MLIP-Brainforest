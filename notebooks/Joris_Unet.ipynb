{
 "cells": [
  {
   "cell_type": "code",
   "execution_count": null,
   "metadata": {
    "scrolled": true
   },
   "outputs": [],
   "source": [
    "%load_ext autoreload\n",
    "%autoreload 2\n",
    "import sys\n",
    "sys.path.append('..')\n",
    "import os\n",
    "import glob\n",
    "\n",
    "import matplotlib.pyplot as plt\n",
    "import numpy as np\n",
    "from sklearn.model_selection import train_test_split\n",
    "\n",
    "from rainforest.models.unet import get_unet\n",
    "from rainforest.data_generators import get_data_with_masks\n",
    "import paths\n",
    "\n",
    "from keras.callbacks import CSVLogger, ReduceLROnPlateau, ModelCheckpoint\n",
    "\n",
    "%matplotlib inline"
   ]
  },
  {
   "cell_type": "code",
   "execution_count": null,
   "metadata": {
    "scrolled": true
   },
   "outputs": [],
   "source": [
    "model = get_unet()"
   ]
  },
  {
   "cell_type": "code",
   "execution_count": null,
   "metadata": {
    "collapsed": true
   },
   "outputs": [],
   "source": [
    "masks = glob.glob(os.path.join(paths.DATA_FOLDER, 'slash_burn/*.png'))\n",
    "images = [m.replace('.mask.0.png', '.bmp') for m in masks]\n",
    "train_imgs, val_imgs, train_masks, val_masks = train_test_split(images, masks)\n",
    "train_files = zip(train_imgs, train_masks)\n",
    "val_files = zip(val_imgs, val_masks)"
   ]
  },
  {
   "cell_type": "code",
   "execution_count": null,
   "metadata": {
    "collapsed": true
   },
   "outputs": [],
   "source": [
    "batch_size = 16"
   ]
  },
  {
   "cell_type": "code",
   "execution_count": null,
   "metadata": {
    "collapsed": true
   },
   "outputs": [],
   "source": [
    "train_gen = get_data_with_masks(train_files, batch_size=batch_size, hflip=True, vflip=True, shift_x=3, shift_y=3, rot_range=-5)\n",
    "val_gen = get_data_with_masks(val_files, batch_size=batch_size)"
   ]
  },
  {
   "cell_type": "code",
   "execution_count": null,
   "metadata": {
    "scrolled": true
   },
   "outputs": [],
   "source": [
    "csv_logger = CSVLogger('log.csv')\n",
    "lr_plateau = ReduceLROnPlateau(monitor='val_loss', patience=3, verbose=1, factor=0.5)\n",
    "checkpoint = ModelCheckpoint(filepath='E:/Models/brainforest/unet1_model.{epoch:02d}-{val_loss:.2f}.hdf5',\n",
    "                             verbose=1, save_best_only=True)\n",
    "\n",
    "model.fit_generator(train_gen, steps_per_epoch=len(train_files) // batch_size,\n",
    "                    epochs=100, verbose=1,\n",
    "                    callbacks=[csv_logger, lr_plateau, checkpoint],\n",
    "                    validation_data=val_gen, validation_steps=len(val_files) // batch_size)"
   ]
  },
  {
   "cell_type": "code",
   "execution_count": null,
   "metadata": {
    "scrolled": true
   },
   "outputs": [],
   "source": [
    "model.load_weights('E:/Models/brainforest/unet1_model.07-2.58.hdf5')\n",
    "imgs, masks = next(val_gen)\n",
    "for img, mask in zip(imgs, masks):\n",
    "    pred = model.predict(np.expand_dims(img, 0))[0]\n",
    "    plt.subplot(131)\n",
    "    plt.imshow(img.transpose(1, 2, 0) + 0.5)\n",
    "    plt.subplot(132)\n",
    "    plt.imshow(mask[1])\n",
    "    plt.subplot(133)\n",
    "    plt.imshow(pred[1], vmin=0, vmax=1)\n",
    "    plt.show()"
   ]
  },
  {
   "cell_type": "code",
   "execution_count": null,
   "metadata": {},
   "outputs": [],
   "source": [
    "imgs.mean()"
   ]
  }
 ],
 "metadata": {
  "kernelspec": {
   "display_name": "Python 2",
   "language": "python",
   "name": "python2"
  },
  "language_info": {
   "codemirror_mode": {
    "name": "ipython",
    "version": 2
   },
   "file_extension": ".py",
   "mimetype": "text/x-python",
   "name": "python",
   "nbconvert_exporter": "python",
   "pygments_lexer": "ipython2",
   "version": "2.7.13"
  }
 },
 "nbformat": 4,
 "nbformat_minor": 2
}
