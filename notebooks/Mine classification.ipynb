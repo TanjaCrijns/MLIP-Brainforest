{
 "cells": [
  {
   "cell_type": "code",
   "execution_count": 1,
   "metadata": {
    "collapsed": false
   },
   "outputs": [
    {
     "name": "stderr",
     "output_type": "stream",
     "text": [
      "Using Theano backend.\n"
     ]
    }
   ],
   "source": [
    "import numpy as np\n",
    "import matplotlib as plt\n",
    "import sys\n",
    "sys.path.insert(0, '..')\n",
    "sys.path.insert(0, '../rainforest')\n",
    "from paths import DATA_FOLDER\n",
    "from data import get_class_data\n",
    "from keras.applications.vgg16 import VGG16\n",
    "from keras.layers import Dense, Dropout, Flatten\n",
    "from keras.layers import Conv2D, MaxPooling2D\n",
    "from keras.optimizers import SGD\n",
    "from keras.models import Model\n",
    "from scipy import misc\n",
    "from sklearn.preprocessing import label_binarize\n",
    "import keras.layers.core as C\n",
    "from keras.models import Sequential"
   ]
  },
  {
   "cell_type": "code",
   "execution_count": 2,
   "metadata": {
    "collapsed": false
   },
   "outputs": [],
   "source": [
    "train = get_class_data(train=True, label='mines')\n",
    "validation = get_class_data(train=False, label='mines')"
   ]
  },
  {
   "cell_type": "markdown",
   "metadata": {},
   "source": [
    "### Info\n",
    "\n",
    "###### Validation:\n",
    "    artisial mine: 95, conventional mine: 26, total: 12144\n",
    "###### Train:\n",
    "    artisial mine: 244, conventional mine: 74, total: 28335\n",
    "    \n",
    "    2 images in train set with both labels\n",
    "    1 image in val set with both labels"
   ]
  },
  {
   "cell_type": "code",
   "execution_count": 3,
   "metadata": {
    "collapsed": false
   },
   "outputs": [],
   "source": [
    "# data generator\n",
    "\n",
    "def data_generator_balanced(data, label, length, train):\n",
    "    '''\n",
    "    Input:\n",
    "        data: pandas object containing the data \n",
    "        label: label of data you want to generate images from\n",
    "        length: batch length\n",
    "        train: if train folder or test\n",
    "    '''\n",
    "    data = data[['image_name', label]]\n",
    "    cnt = 0\n",
    "    folder = '/train-jpg/'\n",
    "    if not train:\n",
    "        folder = '/test-jpg/'\n",
    "    while True:\n",
    "        batch = np.zeros((length, 3, 256, 256))\n",
    "        labels = np.ones((50, 2))\n",
    "        for i in range(length/2):  # get mine images\n",
    "            img_name = np.random.choice(data[data[label] == 1]['image_name'].as_matrix())\n",
    "            img = '..' + DATA_FOLDER + folder + img_name + '.jpg'\n",
    "            batch[i, :, :, :] = misc.imread(img)[:,:,:3].transpose(2,0,1)\n",
    "            # labels[i] = 1\n",
    "            labels[i] = [0, 1]\n",
    "        for i in range(length/2, length):  # get non mine images\n",
    "            img_name = np.random.choice(data[data[label] == 0]['image_name'].as_matrix())\n",
    "            img = '..' + DATA_FOLDER + folder + img_name + '.jpg'\n",
    "            batch[i, :, :, :] = misc.imread(img)[:,:,:3].transpose(2,0,1)\n",
    "            # labels[i] = 0\n",
    "            labels[i] = [1, 0]\n",
    "        \n",
    "        # Shuffle batch\n",
    "        idx = np.arange(length)\n",
    "        np.random.shuffle(idx)\n",
    "        batch = batch[idx]\n",
    "        \n",
    "        labels = np.array(labels[idx])\n",
    "        yield batch, labels "
   ]
  },
  {
   "cell_type": "code",
   "execution_count": 4,
   "metadata": {
    "collapsed": false
   },
   "outputs": [
    {
     "data": {
      "text/plain": [
       "'train_28741'"
      ]
     },
     "execution_count": 4,
     "metadata": {},
     "output_type": "execute_result"
    }
   ],
   "source": [
    "np.random.choice(train[train['conventional_mine'] == 1]['image_name'].as_matrix())"
   ]
  },
  {
   "cell_type": "code",
   "execution_count": 5,
   "metadata": {
    "collapsed": false
   },
   "outputs": [],
   "source": [
    "gen = data_generator_balanced(train, 'conventional_mine', 30, True)\n",
    "val = data_generator_balanced(validation, 'conventional_mine', 30, True)\n"
   ]
  },
  {
   "cell_type": "code",
   "execution_count": 6,
   "metadata": {
    "collapsed": false
   },
   "outputs": [],
   "source": [
    "# augmentation generator\n",
    "def augmentation_generator(data_gen):\n",
    "    '''\n",
    "    Input:\n",
    "        data_gen: a data generator that generates batches of data that need to be augmented\n",
    "    '''\n",
    "    while True:\n",
    "        yield None"
   ]
  },
  {
   "cell_type": "code",
   "execution_count": 7,
   "metadata": {
    "collapsed": false
   },
   "outputs": [],
   "source": [
    "def model():\n",
    "    model = Sequential()\n",
    "\n",
    "    model.add(Conv2D(32, (3, 3), activation='relu', input_shape=(3, 256, 256)))\n",
    "    model.add(Conv2D(32, (3, 3), activation='relu'))\n",
    "    model.add(MaxPooling2D(pool_size=(2, 2)))\n",
    "    model.add(Dropout(0.25))\n",
    "\n",
    "    model.add(Conv2D(64, (3, 3), activation='relu'))\n",
    "    model.add(Conv2D(64, (3, 3), activation='relu'))\n",
    "    model.add(MaxPooling2D(pool_size=(2, 2)))\n",
    "    model.add(Dropout(0.25))\n",
    "\n",
    "    model.add(Flatten())\n",
    "    model.add(Dense(256, activation='relu'))\n",
    "    model.add(Dropout(0.5))\n",
    "    model.add(Dense(2, activation='softmax'))\n",
    "    \n",
    "    return model"
   ]
  },
  {
   "cell_type": "code",
   "execution_count": 8,
   "metadata": {
    "collapsed": false
   },
   "outputs": [],
   "source": [
    "a = model()\n",
    "a.compile(optimizer='adam', loss='categorical_crossentropy')"
   ]
  },
  {
   "cell_type": "code",
   "execution_count": 9,
   "metadata": {
    "collapsed": false
   },
   "outputs": [
    {
     "name": "stdout",
     "output_type": "stream",
     "text": [
      "(30, 3, 256, 256)\n",
      "(30, 2)\n"
     ]
    }
   ],
   "source": [
    "d = gen.next()\n",
    "print d[0].shape\n",
    "print d[1].shape"
   ]
  },
  {
   "cell_type": "code",
   "execution_count": null,
   "metadata": {
    "collapsed": false
   },
   "outputs": [
    {
     "name": "stdout",
     "output_type": "stream",
     "text": [
      "_________________________________________________________________\n",
      "Layer (type)                 Output Shape              Param #   \n",
      "=================================================================\n",
      "conv2d_1 (Conv2D)            (None, 32, 254, 254)      896       \n",
      "_________________________________________________________________\n",
      "conv2d_2 (Conv2D)            (None, 32, 252, 252)      9248      \n",
      "_________________________________________________________________\n",
      "max_pooling2d_1 (MaxPooling2 (None, 32, 126, 126)      0         \n",
      "_________________________________________________________________\n",
      "dropout_1 (Dropout)          (None, 32, 126, 126)      0         \n",
      "_________________________________________________________________\n",
      "conv2d_3 (Conv2D)            (None, 64, 124, 124)      18496     \n",
      "_________________________________________________________________\n",
      "conv2d_4 (Conv2D)            (None, 64, 122, 122)      36928     \n",
      "_________________________________________________________________\n",
      "max_pooling2d_2 (MaxPooling2 (None, 64, 61, 61)        0         \n",
      "_________________________________________________________________\n",
      "dropout_2 (Dropout)          (None, 64, 61, 61)        0         \n",
      "_________________________________________________________________\n",
      "flatten_1 (Flatten)          (None, 238144)            0         \n",
      "_________________________________________________________________\n",
      "dense_1 (Dense)              (None, 256)               60965120  \n",
      "_________________________________________________________________\n",
      "dropout_3 (Dropout)          (None, 256)               0         \n",
      "_________________________________________________________________\n",
      "dense_2 (Dense)              (None, 2)                 514       \n",
      "=================================================================\n",
      "Total params: 61,031,202\n",
      "Trainable params: 61,031,202\n",
      "Non-trainable params: 0\n",
      "_________________________________________________________________\n"
     ]
    }
   ],
   "source": [
    "a.summary()"
   ]
  },
  {
   "cell_type": "code",
   "execution_count": null,
   "metadata": {
    "collapsed": false
   },
   "outputs": [
    {
     "name": "stderr",
     "output_type": "stream",
     "text": [
      "WARNING (theano.gof.compilelock): Overriding existing lock by dead process '5762' (I am process '5941')\n"
     ]
    },
    {
     "name": "stdout",
     "output_type": "stream",
     "text": [
      "Epoch 1/1\n"
     ]
    }
   ],
   "source": [
    "a.fit_generator(gen, 10, epochs=1, verbose=2, callbacks=None, validation_data=val, validation_steps=100)"
   ]
  },
  {
   "cell_type": "code",
   "execution_count": null,
   "metadata": {
    "collapsed": true
   },
   "outputs": [],
   "source": []
  }
 ],
 "metadata": {
  "kernelspec": {
   "display_name": "Python 2",
   "language": "python",
   "name": "python2"
  },
  "language_info": {
   "codemirror_mode": {
    "name": "ipython",
    "version": 2
   },
   "file_extension": ".py",
   "mimetype": "text/x-python",
   "name": "python",
   "nbconvert_exporter": "python",
   "pygments_lexer": "ipython2",
   "version": "2.7.13"
  }
 },
 "nbformat": 4,
 "nbformat_minor": 0
}
