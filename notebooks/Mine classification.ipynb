{
 "cells": [
  {
   "cell_type": "code",
   "execution_count": 1,
   "metadata": {
    "collapsed": false
   },
   "outputs": [
    {
     "name": "stderr",
     "output_type": "stream",
     "text": [
      "Using Theano backend.\n"
     ]
    }
   ],
   "source": [
    "import numpy as np\n",
    "import matplotlib as plt\n",
    "import sys\n",
    "sys.path.insert(0, '..')\n",
    "sys.path.insert(0, '../rainforest')\n",
    "from paths import DATA_FOLDER\n",
    "from data import get_class_data\n",
    "from keras.applications.vgg16 import VGG16\n",
    "from keras.layers import Dense\n",
    "from keras.models import Model"
   ]
  },
  {
   "cell_type": "code",
   "execution_count": 2,
   "metadata": {
    "collapsed": false
   },
   "outputs": [],
   "source": [
    "train = get_class_data(train=True, label='mines')\n",
    "validation = get_class_data(train=False, label='mines')"
   ]
  },
  {
   "cell_type": "markdown",
   "metadata": {},
   "source": [
    "### Info\n",
    "\n",
    "###### Validation:\n",
    "    artisial mine: 95, conventional mine: 26, total: 12144\n",
    "###### Train:\n",
    "    artisial mine: 244, conventional mine: 74, total: 28335\n",
    "    \n",
    "    2 images in train set with both labels\n",
    "    1 image in val set with both labels"
   ]
  },
  {
   "cell_type": "code",
   "execution_count": 3,
   "metadata": {
    "collapsed": false
   },
   "outputs": [],
   "source": [
    "# data generator\n",
    "def data_generator(data, label, balanced=True):\n",
    "    '''\n",
    "    Input:\n",
    "        data: pandas object containing the data \n",
    "        label: label of data you want to generate images from\n",
    "        balance: class data\n",
    "    '''\n",
    "    while True:\n",
    "        yield None"
   ]
  },
  {
   "cell_type": "code",
   "execution_count": 4,
   "metadata": {
    "collapsed": false
   },
   "outputs": [],
   "source": [
    "# augmentation generator\n",
    "def augmentation_generator(data_gen):\n",
    "    '''\n",
    "    Input:\n",
    "        data_gen: a data generator that generates batches of data that need to be augmented\n",
    "    '''\n",
    "    while True:\n",
    "        yield None"
   ]
  },
  {
   "cell_type": "code",
   "execution_count": 5,
   "metadata": {
    "collapsed": true
   },
   "outputs": [],
   "source": [
    "def model():\n",
    "    model = VGG16(include_top=False, weights='imagenet', input_shape=(3,256,256))\n",
    "    \n",
    "    x = model.output\n",
    "    x = Dense(1024, activation='relu')(x)\n",
    "    predictions = Dense(2, activation='softmax')(x)\n",
    "\n",
    "    model = Model(inputs=model.input, outputs=predictions)\n",
    "    \n",
    "    for layer in model.layers:\n",
    "        layer.trainable = False\n",
    "    return model"
   ]
  },
  {
   "cell_type": "code",
   "execution_count": 6,
   "metadata": {
    "collapsed": false
   },
   "outputs": [],
   "source": [
    "a = model()\n",
    "a.compile(optimizer='adam', loss='categorical_crossentropy')"
   ]
  }
 ],
 "metadata": {
  "kernelspec": {
   "display_name": "Python 2",
   "language": "python",
   "name": "python2"
  },
  "language_info": {
   "codemirror_mode": {
    "name": "ipython",
    "version": 2
   },
   "file_extension": ".py",
   "mimetype": "text/x-python",
   "name": "python",
   "nbconvert_exporter": "python",
   "pygments_lexer": "ipython2",
   "version": "2.7.13"
  }
 },
 "nbformat": 4,
 "nbformat_minor": 0
}
